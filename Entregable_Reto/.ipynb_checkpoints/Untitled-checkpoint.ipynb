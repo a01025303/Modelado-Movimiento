{
 "cells": [
  {
   "cell_type": "code",
   "execution_count": 1,
   "metadata": {},
   "outputs": [],
   "source": [
    "import numpy as np\n",
    "import matplotlib.pyplot as plt"
   ]
  },
  {
   "cell_type": "code",
   "execution_count": 2,
   "metadata": {},
   "outputs": [],
   "source": [
    "def no_drag(v0, grados, y0, t, g = 9.81):\n",
    "    #Convertir ángulo a radianes\n",
    "    rad = np.radians(grados)\n",
    "    \n",
    "    #Velocidad inicial\n",
    "    v0x = v0 * np.cos(rad)\n",
    "    v0y = v0 * np.sin(rad)\n",
    "\n",
    "    #r(t)\n",
    "    rx = v0x * t\n",
    "    ry = y0 + v0y * t - 4.9 * t ** 2\n",
    "\n",
    "    return rx , ry"
   ]
  },
  {
   "cell_type": "code",
   "execution_count": 34,
   "metadata": {},
   "outputs": [],
   "source": [
    "def maximos(grados, v0):\n",
    "    rad = np.radians(grados)\n",
    "    v0y = v0*np.sin(rad)\n",
    "    v0x = v0*np.cos(rad)\n",
    "    c = [-4.9, v0y, y0]\n",
    "    root = np.roots(c)\n",
    "    for i in range(1):\n",
    "        maxx= v0x*root[i]\n",
    "    tmy = v0y/9.8\n",
    "    maxy = -4.9*tmy**2 + v0y*tmy + y0\n",
    "    return maxx, maxy"
   ]
  },
  {
   "cell_type": "code",
   "execution_count": 35,
   "metadata": {},
   "outputs": [],
   "source": [
    "def coefficient(rho, c, a):\n",
    "    d = (rho * c * a)/2\n",
    "    return d"
   ]
  },
  {
   "cell_type": "code",
   "execution_count": 36,
   "metadata": {},
   "outputs": [],
   "source": [
    "def mass(r, densidad): \n",
    "    vol = (4/3) * np.pi * r ** 3\n",
    "    m = vol * densidad\n",
    "    return m"
   ]
  },
  {
   "cell_type": "code",
   "execution_count": 37,
   "metadata": {},
   "outputs": [],
   "source": [
    "def drag(v0, grados, y0, m, d, dt, itera):\n",
    "    g = 9.81\n",
    "    #Grados a radianes\n",
    "    rad = np.radians(grados)\n",
    "\n",
    "    # velocidad inicial\n",
    "    v0x = v0 * np.cos(rad)\n",
    "    v0y = v0 * np.sin(rad)\n",
    "\n",
    "    #tiempo\n",
    "    t = 0\n",
    "    t_list = [t]\n",
    "\n",
    "    #velocidad\n",
    "    v = v0\n",
    "    vx = v0x\n",
    "    vy = v0y\n",
    "\n",
    "    v_list = [v]\n",
    "    v_x_list = [v0x]\n",
    "    v_y_list = [v0y]\n",
    "\n",
    "    # Posición\n",
    "    x = 0\n",
    "    y = y0\n",
    "\n",
    "    x_list = [x]\n",
    "    y_list = [y]\n",
    "\n",
    "    # Aceleración inicial\n",
    "    ax = -(d/m)*v*vx\n",
    "    ay = -g-(d/m)*v*vy\n",
    "\n",
    "    a_x_list = [ax]\n",
    "    a_y_list = [ay]\n",
    "    \n",
    "    for _ in range(itera):\n",
    "            \n",
    "        # Velocidades para 'x' y 'y' del siguiente paso\n",
    "        v_x_next = vx + (ax) * dt\n",
    "        v_y_next = vy + (ay) * dt\n",
    "        \n",
    "        # Magnitud del vector de velocidad con componentes v_x_next y v_y_next\n",
    "        v_next = np.sqrt((v_x_next) ** 2 + (v_y_next) ** 2)\n",
    "\n",
    "        # Agregar valores a listas v_list, v_x_list, v_y_list. \n",
    "        v_list.append(v_next)\n",
    "        v_x_list.append(v_x_next)\n",
    "        v_y_list.append(v_y_next)\n",
    "\n",
    "        # Posiciones 'x' y 'y' del siguiente paso\n",
    "        x_next = x + v_x_next * dt + (1/2) * ax * (dt ** 2)\n",
    "        y_next = y + v_y_next * dt + (1/2) * ay * (dt ** 2)\n",
    "        \n",
    "        # Agregar calores a listas x_list y y_list\n",
    "        x_list.append(x_next)\n",
    "        y_list.append(y_next)\n",
    "        \n",
    "        # Aceleraciones para 'x' y 'y' del siguiente paso\n",
    "        a_x_next = -(d/m) * v * v_x_next\n",
    "        a_y_next = -g -(d/m) * v * v_y_next\n",
    "\n",
    "        # Agregar valores a listas a_x_list y a_y_list\n",
    "        a_x_list.append(a_x_next)\n",
    "        a_y_list.append(a_y_next)\n",
    "        \n",
    "        vx = v_x_next\n",
    "        vy = v_y_next\n",
    "        v = v_next\n",
    "\n",
    "        x = x_next\n",
    "        y = y_next\n",
    "\n",
    "        ax = a_x_next\n",
    "        ay = a_y_next\n",
    "\n",
    "        # Calcular tiempo y guardarlo en una lista t_list\n",
    "        t += dt\n",
    "        t_list.append(t)\n",
    "        \n",
    "    return x_list, y_list, v_list, v_x_list, v_y_list, a_x_list, a_y_list, t_list\n"
   ]
  },
  {
   "cell_type": "code",
   "execution_count": 41,
   "metadata": {},
   "outputs": [],
   "source": [
    "def trayectorias1(rx, ry, x_list, y_list, xm, ym, title=\"Trayectoria de proyectiles\"):\n",
    "    fig = plt.Figure(figsize = (15, 9))\n",
    "    plt.plot(rx, ry, label = \"Vacío\")\n",
    "    plt.plot(x_list, y_list, label = \"Con resistencia al aire\")\n",
    "    plt.grid()\n",
    "    plt.axis(\"scaled\")\n",
    "    plt.title(\"Trayectorias con y sin resistencia al aire\")\n",
    "    plt.xlim([0, xm + 1000])\n",
    "    plt.ylim([0, ym + 1000])\n",
    "    return fig\n"
   ]
  },
  {
   "cell_type": "code",
   "execution_count": 42,
   "metadata": {},
   "outputs": [
    {
     "name": "stdout",
     "output_type": "stream",
     "text": [
      "5911.143477502055\n"
     ]
    },
    {
     "data": {
      "image/png": "[encoded data removed]",
      "text/plain": [
       "<Figure size 432x288 with 1 Axes>"
      ]
     },
     "metadata": {
      "needs_background": "light"
     },
     "output_type": "display_data"
    }
   ],
   "source": [
    "v0 = 200\n",
    "grados = 50\n",
    "y0 = 3315\n",
    "t = np.linspace(0, 60, num = 100)\n",
    "r = 0.1\n",
    "a = np.pi*r**2\n",
    "rho = 0.9\n",
    "densidad = 2100\n",
    "c = 0.6\n",
    "dt = 0.1\n",
    "itera = 1000\n",
    "rx, ry = no_drag(v0, grados, y0, t, g=9.81)\n",
    "m = mass(r, densidad)\n",
    "d = coefficient(rho, c, a)\n",
    "[x_list, y_list, v_list, v_x_list, \n",
    " v_y_list, a_x_list, a_y_list, t_list] = drag(v0, grados, y0, m, d, dt, itera)\n",
    "maxx, maxy = maximos(grados, v0)\n",
    "print(maxx)\n",
    "fig = trayectorias1(rx, ry, x_list, y_list, maxx, maxy, title=\"Trayectoria de proyectiles\")"
   ]
  },
  {
   "cell_type": "code",
   "execution_count": 44,
   "metadata": {},
   "outputs": [
    {
     "name": "stdout",
     "output_type": "stream",
     "text": [
      "150.239191654099\n"
     ]
    }
   ],
   "source": [
    "def pc(t, ry):\n",
    "    m0 = (ry[1]-ry[0])/(t[1]-t[0])\n",
    "    for i in range(2, len(ry)):\n",
    "        m = (ry[i]-ry[i-1])/(t[i]-t[i-1])\n",
    "        if m\n",
    "    return m0"
   ]
  },
  {
   "cell_type": "code",
   "execution_count": null,
   "metadata": {},
   "outputs": [],
   "source": []
  }
 ],
 "metadata": {
  "kernelspec": {
   "display_name": "Python 3",
   "language": "python",
   "name": "python3"
  },
  "language_info": {
   "codemirror_mode": {
    "name": "ipython",
    "version": 3
   },
   "file_extension": ".py",
   "mimetype": "text/x-python",
   "name": "python",
   "nbconvert_exporter": "python",
   "pygments_lexer": "ipython3",
   "version": "3.8.3"
  }
 },
 "nbformat": 4,
 "nbformat_minor": 4
}

{
 "cells": [
  {
   "cell_type": "markdown",
   "metadata": {},
   "source": [
    "Ana Paula Katsuda, A01025303\n",
    "\n",
    "Syeni Perea, A01025129"
   ]
  },
  {
   "cell_type": "markdown",
   "metadata": {},
   "source": [
    "# Tarea Final Matemáticas y Computación F1004B\n",
    "\n",
    "En esta tarea, el reto es implementar un programa que pueda encontrar los puntos críticos de una función polinomial de segundo, tercer o cuarto grado y diga si son máximos o mínimos. Una vez que se hayan calculado los puntos, el programa debe crear el gráfico de la función y mostrar los puntos críticos.\n"
   ]
  },
  {
   "cell_type": "markdown",
   "metadata": {},
   "source": [
    "### Sección 1: Objetivos\n",
    "\n",
    "En tu programa se debe poder definir el grado de la función, los coeficientes y el intervalo en x donde encontrar los puntos críticos.\n",
    "\n",
    "Con el grado nos referimos al exponente de $x$ más alto y con coeficientes nos referimos a los números constantes que multiplican a cada $x$ en la ecuación polinomial. \n",
    "\n",
    "Por ejemplo, la siguiente es una función polinomial de tercer grado con coeficientes $c_3, c_2, c_1$ y $c_0$.\n",
    "\n",
    "$f(x) = c_3 x^3 + c_2 x^2 + c_1 x + c_0$"
   ]
  },
  {
   "cell_type": "markdown",
   "metadata": {},
   "source": [
    "### Sección 2: El Algoritmo\n",
    "\n",
    "El algoritmo a implementar es el siguiente,\n",
    "\n",
    "1. Para cada punto $f(n)$, aproximamos la pendiente con $f(n) - f(n-1)$ (el punto anterior).\n",
    "1. Guardamos la pendiente actual, si no es el primer paso, la comparamos con la anterior.\n",
    "1. Si el signo de la pendiente anterior es diferente al actual, encontramos un punto crítico.\n",
    "1. Dado el cambio de símbolo (positivo a negativo ó negativo a positivo) determinar si se trata de un máximo  un mínimo.\n",
    "1. Repetir hasta haber analizado todos los puntos de $x$"
   ]
  },
  {
   "cell_type": "markdown",
   "metadata": {},
   "source": [
    "### Sección 3: Representando funciones en Python\n",
    "\n",
    "Ahora veamos como representar una función en python. A diferencia de lo que estamos acostumbrados, no podemos tomar el intervalo de $(-\\infty,\\infty)$ en $x$, necesitamos restringirlo porque si no, no sabremos donde parar. Haremos este ejercicio para la función,\n",
    "\n",
    "$f(x) = x^3 - 2x^2 - 5x + 6$\n",
    "\n",
    "Y el intervalo en $x$ de $[-3,4]$\n",
    "\n",
    "Como siempre, lo primero que haremos es importar las librerías necesarias."
   ]
  },
  {
   "cell_type": "code",
   "execution_count": 1,
   "metadata": {},
   "outputs": [],
   "source": [
    "import numpy as np\n",
    "import matplotlib.pyplot as plt"
   ]
  },
  {
   "cell_type": "markdown",
   "metadata": {},
   "source": [
    "Ahora creamos arreglos para $x$ y $f(x)$."
   ]
  },
  {
   "cell_type": "code",
   "execution_count": 2,
   "metadata": {},
   "outputs": [],
   "source": [
    "x = np.linspace(-3,4,100)\n",
    "f_x = (x**3-2*x**2-5*x+6)"
   ]
  },
  {
   "cell_type": "markdown",
   "metadata": {},
   "source": [
    "Nota que la variable `f_x` es un arreglo de numpy con la misma longitud que `x`.\n",
    "\n",
    "Podemos graficar la función utilizando matplotlib como ya hemos hecho antes."
   ]
  },
  {
   "cell_type": "code",
   "execution_count": 3,
   "metadata": {},
   "outputs": [
    {
     "data": {
      "image/png": "[encoded data removed]",
      "text/plain": [
       "<Figure size 432x288 with 1 Axes>"
      ]
     },
     "metadata": {
      "needs_background": "light"
     },
     "output_type": "display_data"
    }
   ],
   "source": [
    "plt.plot(x,f_x)\n",
    "plt.grid()"
   ]
  },
  {
   "cell_type": "markdown",
   "metadata": {},
   "source": [
    "### Sección 4: Implementación del algoritmo\n",
    "\n",
    "Ahora que tenemos las bases, en esta sección podrás implementar el algoritmo descrito en la sección 2. Recuerda que debemos empezar por poder definir el grado de la función y los coeficientes.\n",
    "\n",
    "Te recomiendo intentar hacer esto por tu cuenta pero si tienes dudas puedes revisar la sección 8 para ideas de como estructurar el código."
   ]
  },
  {
   "cell_type": "code",
   "execution_count": 4,
   "metadata": {},
   "outputs": [],
   "source": [
    "def get_xy_arrays(degree, coefficients, x_start, x_end):\n",
    "    \"\"\"\n",
    "    Genera los arreglos de x y f(x) para representar la función.\n",
    "\n",
    "    Entradas:\n",
    "     - degree (int): el grado del polinomio, solo puede ser 2, 3 o 4\n",
    "     - coefficients (list): Una lista con los coeficientes, empezando con\n",
    "       el coeficiente para la x con mayor exponente\n",
    "     - x_start (int/float): El inicio del intervalo en x\n",
    "     - x_end (int/float): El final del intervalo en x\n",
    "    Salidas:\n",
    "     - x (np.array): arreglo con los valores del intervalo de x\n",
    "     - f_x (np.array): arreglo con los valores de f(x)\n",
    "    \"\"\"\n",
    "    x = np.linspace(x_start, x_end, 100)\n",
    "    x_arr=list(x)\n",
    "    fx=[]\n",
    "    for i in x_arr:\n",
    "        suma=0\n",
    "        grado=degree\n",
    "        for j in coefficients:\n",
    "            for k in range (1):\n",
    "                a=0\n",
    "                a=j*i**grado\n",
    "                suma= suma+a\n",
    "                grado-=1\n",
    "                if grado == -1:\n",
    "                    grado == degree          \n",
    "                    fx.append(suma)\n",
    "                    break\n",
    "    \n",
    "\n",
    "    return x_arr, fx"
   ]
  },
  {
   "cell_type": "code",
   "execution_count": 5,
   "metadata": {},
   "outputs": [],
   "source": [
    "def find_cp(x_arr):\n",
    "    \"\"\"\n",
    "    Encuentra los índices de f_x donde se encontraron puntos críticos y los tipos de puntos críticos\n",
    "\n",
    "    Entrada:\n",
    "     - x (np.array): arreglo con los valores del intervalo de x.\n",
    "     - f_x (np.array): arreglo de los valores de f(x) para la función a evaluar.\n",
    "\n",
    "    Salida:\n",
    "     - indxs (list/np.array()): Los índices de f_x donde hay puntos críticos.\n",
    "     - types (list): Lista que define si el punto crítico es un mínimo ('min') o un máximo ('max'). \n",
    "       Ej. Para una función con dos puntos críticos, si el primero es un mínimo\n",
    "       y el segundo un máximo, se debe regresar la lista, ['min','max'].\n",
    "    \"\"\"\n",
    "    px = x_arr[0]\n",
    "    pendiente=(fx[1]-fx[0])/(x_arr[1]-x_arr[0])\n",
    "    p_list = []\n",
    "    p_criticos = []\n",
    "    for i in range(2, len(fx)):\n",
    "        p_next = (fx[i]-fx[i-1])/(x_arr[i]-x_arr[i-1])\n",
    "        if pendiente > 0 and p_next < 0:\n",
    "            p_criticos.append(\"máx\")\n",
    "            p_list.append(i)\n",
    "        elif pendiente < 0 and p_next > 0:\n",
    "            p_criticos.append(\"mín\")\n",
    "            p_list.append(i)\n",
    "        pendiente = p_next\n",
    "    p = p_criticos\n",
    "    return p, p_list"
   ]
  },
  {
   "cell_type": "markdown",
   "metadata": {},
   "source": [
    "### Sección 5: Comprobación de Resultados\n",
    "\n",
    "Corre la siguiente celda para evaluar tus resultados"
   ]
  },
  {
   "cell_type": "code",
   "execution_count": 6,
   "metadata": {},
   "outputs": [
    {
     "name": "stdout",
     "output_type": "stream",
     "text": [
      "['máx', 'mín'] [32, 73]\n"
     ]
    }
   ],
   "source": [
    "x_arr, fx = get_xy_arrays(3,[1,-2,-5,6],-3,4)\n",
    "p, p_list = find_cp(x_arr)\n",
    "\n",
    "print(p, p_list)"
   ]
  },
  {
   "cell_type": "markdown",
   "metadata": {},
   "source": [
    "Si tu código es correcto, lo que se imprimió en la celda anterior es:\n",
    "\n",
    "`[32, 73] ['max','min']`"
   ]
  },
  {
   "cell_type": "markdown",
   "metadata": {},
   "source": [
    "### Sección 6: Gráfico de los resultados\n",
    "\n",
    "Ahora generamos el gráfico que incluya la función y con plt.scatter() podemos poner los puntos críticos"
   ]
  },
  {
   "cell_type": "code",
   "execution_count": 7,
   "metadata": {},
   "outputs": [
    {
     "data": {
      "image/png": "[encoded data removed]",
      "text/plain": [
       "<Figure size 432x288 with 1 Axes>"
      ]
     },
     "metadata": {
      "needs_background": "light"
     },
     "output_type": "display_data"
    }
   ],
   "source": [
    "\n",
    "plt.plot(x_arr, fx)\n",
    "for indx in p_list:\n",
    "    plt.scatter(x_arr[indx],fx[indx],c='b')\n",
    "\n",
    "_ = plt.grid()\n",
    "_ = plt.title('Análisis de Función')"
   ]
  },
  {
   "cell_type": "markdown",
   "metadata": {},
   "source": [
    "### Sección 7: Demuestra más casos\n",
    "\n",
    "Ya probamos el programa con una función de tercer grado. Ahora tienes que escoger 3 funciones extra (y sus intervalos): una cuadrática, una cúbica y una de cuarto grado. Debes escoger las funciones y los intervalos para que sea claro que tu programa encontró los puntos críticos de manera correcta y debes generar gráficos que muestren el resultado."
   ]
  },
  {
   "cell_type": "code",
   "execution_count": 8,
   "metadata": {
    "scrolled": true
   },
   "outputs": [
    {
     "name": "stdout",
     "output_type": "stream",
     "text": [
      "['mín', 'máx', 'mín'] [35, 60, 75]\n"
     ]
    }
   ],
   "source": [
    "x_arr, fx = get_xy_arrays(4,[1,-1,-1,1,1],-2,2)\n",
    "\n",
    "p, p_list = find_cp(x_arr)\n",
    "\n",
    "print(p, p_list)"
   ]
  },
  {
   "cell_type": "code",
   "execution_count": 14,
   "metadata": {},
   "outputs": [
    {
     "data": {
      "image/png": "[encoded data removed]",
      "text/plain": [
       "<Figure size 432x288 with 1 Axes>"
      ]
     },
     "metadata": {
      "needs_background": "light"
     },
     "output_type": "display_data"
    }
   ],
   "source": [
    "plt.plot(x_arr, fx, color = \"yellow\")\n",
    "for indx in p_list:\n",
    "    plt.scatter(x_arr[indx],fx[indx],c='b')\n",
    "\n",
    "_ = plt.grid()\n",
    "_ = plt.title('Análisis de Función')"
   ]
  },
  {
   "cell_type": "code",
   "execution_count": 10,
   "metadata": {},
   "outputs": [
    {
     "name": "stdout",
     "output_type": "stream",
     "text": [
      "['mín'] [50]\n"
     ]
    }
   ],
   "source": [
    "x_arr, fx = get_xy_arrays(2,[2,4,3],-3,1)\n",
    "\n",
    "p, p_list = find_cp(x_arr)\n",
    "\n",
    "print(p, p_list)"
   ]
  },
  {
   "cell_type": "code",
   "execution_count": 11,
   "metadata": {},
   "outputs": [
    {
     "data": {
      "image/png": "[encoded data removed]",
      "text/plain": [
       "<Figure size 432x288 with 1 Axes>"
      ]
     },
     "metadata": {
      "needs_background": "light"
     },
     "output_type": "display_data"
    }
   ],
   "source": [
    "plt.plot(x_arr, fx)\n",
    "for indx in p_list:\n",
    "    plt.scatter(x_arr[indx],fx[indx],c='b')\n",
    "\n",
    "_ = plt.grid()\n",
    "_ = plt.title('Análisis de Función')"
   ]
  },
  {
   "cell_type": "code",
   "execution_count": 12,
   "metadata": {},
   "outputs": [
    {
     "name": "stdout",
     "output_type": "stream",
     "text": [
      "['máx', 'mín'] [36, 65]\n"
     ]
    }
   ],
   "source": [
    "x_arr, fx = get_xy_arrays(3,[1,0,-1,0],-2,2)\n",
    "\n",
    "p, p_list = find_cp(x_arr)\n",
    "\n",
    "print(p, p_list)"
   ]
  },
  {
   "cell_type": "code",
   "execution_count": 13,
   "metadata": {},
   "outputs": [
    {
     "data": {
      "image/png": "[encoded data removed]",
      "text/plain": [
       "<Figure size 432x288 with 1 Axes>"
      ]
     },
     "metadata": {
      "needs_background": "light"
     },
     "output_type": "display_data"
    }
   ],
   "source": [
    "plt.plot(x_arr, fx)\n",
    "for indx in p_list:\n",
    "    plt.scatter(x_arr[indx],fx[indx],c='b')\n",
    "\n",
    "_ = plt.grid()\n",
    "_ = plt.title('Análisis de Función')"
   ]
  },
  {
   "cell_type": "code",
   "execution_count": null,
   "metadata": {},
   "outputs": [],
   "source": []
  },
  {
   "cell_type": "code",
   "execution_count": null,
   "metadata": {},
   "outputs": [],
   "source": []
  }
 ],
 "metadata": {
  "kernelspec": {
   "display_name": "Python 3",
   "language": "python",
   "name": "python3"
  },
  "language_info": {
   "codemirror_mode": {
    "name": "ipython",
    "version": 3
   },
   "file_extension": ".py",
   "mimetype": "text/x-python",
   "name": "python",
   "nbconvert_exporter": "python",
   "pygments_lexer": "ipython3",
   "version": "3.8.3"
  }
 },
 "nbformat": 4,
 "nbformat_minor": 2
}

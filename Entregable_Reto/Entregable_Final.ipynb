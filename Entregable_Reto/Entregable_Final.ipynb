{
 "cells": [
  {
   "cell_type": "markdown",
   "metadata": {},
   "source": [
    "# Entregable Final del Reto\n",
    "\n",
    "Ana Paula Katsuda, A01025303\n",
    "\n",
    "Octubre 2020"
   ]
  },
  {
   "cell_type": "markdown",
   "metadata": {},
   "source": [
    "# Introducción"
   ]
  },
  {
   "cell_type": "markdown",
   "metadata": {},
   "source": [
    "Resulta de gran importancia comprender las erupciones volcánicas y los factores implicados en las mismas. Dicho conocimiento tiene un uso elemental al tomar decisiones durante una explosión volcánica e incluso tiene la posibilidad de salvar vidas. El uso de los videojuegos serios para rescatistas promueve la obtención de un entrenamiento informado y eficaz, por lo que el objetivo del presente escrito es hacer uso de la programación para contribuir al análisis de la trayectoria de proyectiles balísticos. Lo anterior, relacionado al volcán Popocatépetl, ubicado en Puebla y con el fin de proporcionar a los rescatistas un video juego serio que los prepare. "
   ]
  },
  {
   "cell_type": "markdown",
   "metadata": {},
   "source": [
    "# Metodología\n",
    "\n",
    "A partir de lo discutido en clase, fue posible obtener relaciones matemáticas que logran modelar de manera precisa el movimiento de los balísticos del Popocatépetl. Las relaciones obtenidas fueron las siguientes:"
   ]
  },
  {
   "cell_type": "markdown",
   "metadata": {},
   "source": [
    "**Trayectoria de Proyectil sin considerar resistencia al aire**\n",
    "\n",
    "$\\vec{r}(t) = v_{ox}(t)\\vec{i} + (\\frac{1}{2}gt^2 + v_{oy}t + s_{oy})\\vec{j}$\n",
    "\n",
    "Conociendo las aceleraciones (en este caso constantes) de los componentes $x$ y $y$, se integraron las mismas para obtener la velocidad, y posteriormente para obtener la posición de cada componente. En este caso, la aceleración del componente $x$ fue de 0 ya que la velocidad es constante, mientras que la aceleración del componente $y$ fue de $-9.81 \\frac{m}{s^2}$ debido a la fuerza ejercida por la gravedad. "
   ]
  },
  {
   "cell_type": "markdown",
   "metadata": {},
   "source": [
    "Asimismo, fue necesario tomar en cuenta la resistencia al aire, por lo que se requirieron las siguientes relaciones:"
   ]
  },
  {
   "cell_type": "markdown",
   "metadata": {},
   "source": [
    "**Resistencia al aire**\n",
    "\n",
    "$\\vec{F_D} = -Dv\\vec{v}$"
   ]
  },
  {
   "cell_type": "markdown",
   "metadata": {},
   "source": [
    "Lo anterior, sabiendo que la resistencia al aire ejerce una fuerza opuesta al movimiento."
   ]
  },
  {
   "cell_type": "markdown",
   "metadata": {},
   "source": [
    "**Constante D**\n",
    "\n",
    "$D = \\frac{CA\\rho}{2}$\n",
    "\n",
    "Donde $C$ es el coefficiente de arrastre, $A$ es el área frontal del proyectil y $\\rho$ es la densidad del aire."
   ]
  },
  {
   "cell_type": "markdown",
   "metadata": {},
   "source": [
    "**Aceleración a partir de la segunda ley de Newton**\n",
    "\n",
    "Esta se divide en los componentes puesto a que, para el componente $x$, solo se toma en cuenta la resistencia al aire mientras que para el componente $y$, se toma en cuenta la fuerza de la gravedad adicional a la resistencia al aire. \n",
    "\n",
    "$a_x = -\\frac{D}{m}vv_x$\n",
    "\n",
    "$a_y = -g-\\frac{D}{m}vv_y$"
   ]
  },
  {
   "cell_type": "markdown",
   "metadata": {},
   "source": [
    "**Posición considerando resistencia al aire**\n",
    "\n",
    "Puesto a que la aceleración no es constante, es necesario encontrar los valores de posición, velocidad y aceleración en distintos instantes del tiempo. \n",
    "\n",
    "$\\vec{s}(t + \\Delta t) = \\vec{s}(t) + \\vec{v}(t)\\Delta t + \\frac{1}{2}\\vec{a}(t)(\\Delta t)^2$"
   ]
  },
  {
   "cell_type": "markdown",
   "metadata": {},
   "source": [
    "**Expresión de Velocidad**\n",
    "\n",
    "$\\vec{v}(t + \\Delta t) = v_x + \\vec{a}_x\\Delta t$"
   ]
  },
  {
   "cell_type": "markdown",
   "metadata": {},
   "source": [
    "Las dos expresiones anteriores se deben separar en componentes."
   ]
  },
  {
   "cell_type": "markdown",
   "metadata": {},
   "source": [
    "**Expresión de masa**\n",
    "\n",
    "$masa = densidad*volumen$"
   ]
  },
  {
   "cell_type": "markdown",
   "metadata": {},
   "source": [
    "# Explicación de cálculos"
   ]
  },
  {
   "cell_type": "code",
   "execution_count": 70,
   "metadata": {},
   "outputs": [],
   "source": [
    "import numpy as np\n",
    "import matplotlib.pyplot as plt"
   ]
  },
  {
   "cell_type": "markdown",
   "metadata": {},
   "source": [
    "**Función para encontrar máximos sin resistencia al aire**"
   ]
  },
  {
   "cell_type": "code",
   "execution_count": 71,
   "metadata": {},
   "outputs": [],
   "source": [
    "def maximos(grados, v0):\n",
    "    rad = np.radians(grados)\n",
    "    v0y = v0*np.sin(rad)\n",
    "    v0x = v0*np.cos(rad)\n",
    "    c = [-4.9, v0y, y0]\n",
    "    root = np.roots(c)\n",
    "    for i in range(1):\n",
    "        maxx= v0x*root[i]\n",
    "    tmy = v0y/9.8\n",
    "    maxy = -4.9*tmy**2 + v0y*tmy + y0\n",
    "    return maxx, maxy"
   ]
  },
  {
   "cell_type": "markdown",
   "metadata": {},
   "source": [
    "La función de máximos calcula primero las raíces de la función obtenida para el componente y de la trayectoria sin resistencia al aire. Una vez encontradas las raíces, encuentra la mayor que se refiere al tiempo total que tarda el proyectil para llegar al piso. Eso es multiplicado por la velocidad inicial en el componente x (dado que la velocidad en x se mantiene constante) y de esa manera se encuentra el alcance máximo. Asimismo, la altura máxima considera la derivada de la posición en el componente y; con el fin de calcular el tiempo que tarda en llegar al punto máximo, la derivada se iguala a 0 y se despeja t. Acto seguido, el tiempo es sustituido en la función del componente y para encontrar la altura máxima. "
   ]
  },
  {
   "cell_type": "markdown",
   "metadata": {},
   "source": [
    "**Cálculo de trayectoria sin resistencia al aire**"
   ]
  },
  {
   "cell_type": "code",
   "execution_count": 72,
   "metadata": {},
   "outputs": [],
   "source": [
    "def no_drag(v0, grados, y0, t, g = 9.81):\n",
    "    #Convertir ángulo a radianes\n",
    "    rad = np.radians(grados)\n",
    "    \n",
    "    #Velocidad inicial\n",
    "    v0x = v0 * np.cos(rad)\n",
    "    v0y = v0 * np.sin(rad)\n",
    "\n",
    "    #r(t)\n",
    "    rx = v0x * t\n",
    "    ry = y0 + v0y * t - 4.9 * t ** 2\n",
    "\n",
    "    return rx , ry"
   ]
  },
  {
   "cell_type": "markdown",
   "metadata": {},
   "source": [
    "La función del cálculo de la trayectoria sin resistencia al aire considera la velocidad inicial y sus componentes. Puesto a que en este caso no se considera que el componente x tiene un cambio en la aceleración, se considera que su velocidad (en el componente x) es constante. Por otro lado, se considera la fuerza de gravedad para el componente y por lo que la velocidad inicial en el componente y, varía."
   ]
  },
  {
   "cell_type": "markdown",
   "metadata": {},
   "source": [
    "**Datos considerando resistencia al aire**"
   ]
  },
  {
   "cell_type": "code",
   "execution_count": 73,
   "metadata": {},
   "outputs": [],
   "source": [
    "def mass(r, densidad): \n",
    "    vol = (4/3) * np.pi * r ** 3\n",
    "    m = vol * densidad\n",
    "    return m"
   ]
  },
  {
   "cell_type": "markdown",
   "metadata": {},
   "source": [
    "La función de masa calcula la masa del objeto a partir de su densidad y de su radio."
   ]
  },
  {
   "cell_type": "markdown",
   "metadata": {},
   "source": [
    "**Coeficiente D**"
   ]
  },
  {
   "cell_type": "code",
   "execution_count": 74,
   "metadata": {},
   "outputs": [],
   "source": [
    "def coefficient(rho, c, a):\n",
    "    d = (rho * c * a)/2\n",
    "    return d"
   ]
  },
  {
   "cell_type": "markdown",
   "metadata": {},
   "source": [
    "La función del coeficiente D utiliza la relación matemática para calcularlo a partir de la densidad del aire, el área frontal del objeto y el coeficiente de arrastre. "
   ]
  },
  {
   "cell_type": "markdown",
   "metadata": {},
   "source": [
    "**Función para encontrar puntos críticos**"
   ]
  },
  {
   "cell_type": "code",
   "execution_count": 91,
   "metadata": {},
   "outputs": [],
   "source": [
    "def puntos_c(rx, ry):\n",
    "    max_list = []\n",
    "    m0 = (ry[1]-ry[0])/(rx[1]-rx[0])\n",
    "    for i in range(2, len(ry)):\n",
    "        m = (ry[i]-ry[i-1])/(rx[i]-rx[i-1])\n",
    "        if (m0 > 0 and m < 0) or (m0 < 0 and m > 0):\n",
    "            max_list.append(i)\n",
    "        m0 = m\n",
    "    return max_list"
   ]
  },
  {
   "cell_type": "markdown",
   "metadata": {},
   "source": [
    "La función analiza las pendientes de la trayectoria sin resistencia al aire y determina la posición en la que se encuentra la altura máxima a partir de un cambio de signo en las pendientes (en este caso, de positiva a negativa)."
   ]
  },
  {
   "cell_type": "markdown",
   "metadata": {},
   "source": [
    "**Función para encontrar el máximo en trayectoria con resistencia al aire**"
   ]
  },
  {
   "cell_type": "code",
   "execution_count": 92,
   "metadata": {},
   "outputs": [],
   "source": [
    "def max_drag(x_list, y_list):\n",
    "    ydmax = max(y_list)\n",
    "    win = 0\n",
    "    winner = 0\n",
    "    for e in range (len(y_list)):\n",
    "        ind = y_list[e]\n",
    "        if ydmax == ind:\n",
    "            win = e\n",
    "        if ind < 0:\n",
    "            winner = e-1\n",
    "            break\n",
    "    dragxm = x_list[win]\n",
    "    dragym = y_list[win]\n",
    "    xdmax = x_list[winner]\n",
    "    return dragxm, dragym, xdmax"
   ]
  },
  {
   "cell_type": "markdown",
   "metadata": {},
   "source": [
    "La función encuentra la posición en la que se encuentra la altura máxima y el alcance máximo. Asimismo, regresa sus coordenadas. Lo anterior lo hace buscando la posición del valor máximo en la lista de coordenadas x y y mediante diversos ciclos y condicionales. Después, busca el valor en las listas en dicha posición. "
   ]
  },
  {
   "cell_type": "markdown",
   "metadata": {},
   "source": [
    "**Cálculos trayectoria del proyectil con resistencia al aire**"
   ]
  },
  {
   "cell_type": "code",
   "execution_count": 77,
   "metadata": {},
   "outputs": [],
   "source": [
    "def drag(v0, grados, y0, m, d, dt, itera):\n",
    "    g = 9.81\n",
    "    #Grados a radianes\n",
    "    rad = np.radians(grados)\n",
    "\n",
    "    # velocidad inicial\n",
    "    v0x = v0 * np.cos(rad)\n",
    "    v0y = v0 * np.sin(rad)\n",
    "\n",
    "    #tiempo\n",
    "    t = 0\n",
    "    t_list = [t]\n",
    "\n",
    "    #velocidad\n",
    "    v = v0\n",
    "    vx = v0x\n",
    "    vy = v0y\n",
    "\n",
    "    v_list = [v]\n",
    "    v_x_list = [v0x]\n",
    "    v_y_list = [v0y]\n",
    "\n",
    "    # Posición\n",
    "    x = 0\n",
    "    y = y0\n",
    "\n",
    "    x_list = [x]\n",
    "    y_list = [y]\n",
    "\n",
    "    # Aceleración inicial\n",
    "    ax = -(d/m)*v*vx\n",
    "    ay = -g-(d/m)*v*vy\n",
    "\n",
    "    a_x_list = [ax]\n",
    "    a_y_list = [ay]\n",
    "    \n",
    "    for _ in range(itera):\n",
    "            \n",
    "        # Velocidades para 'x' y 'y' del siguiente paso\n",
    "        v_x_next = vx + (ax) * dt\n",
    "        v_y_next = vy + (ay) * dt\n",
    "        \n",
    "        # Magnitud del vector de velocidad con componentes v_x_next y v_y_next\n",
    "        v_next = np.sqrt((v_x_next) ** 2 + (v_y_next) ** 2)\n",
    "\n",
    "        # Agregar valores a listas v_list, v_x_list, v_y_list. \n",
    "        v_list.append(v_next)\n",
    "        v_x_list.append(v_x_next)\n",
    "        v_y_list.append(v_y_next)\n",
    "\n",
    "        # Posiciones 'x' y 'y' del siguiente paso\n",
    "        x_next = x + v_x_next * dt + (1/2) * ax * (dt ** 2)\n",
    "        y_next = y + v_y_next * dt + (1/2) * ay * (dt ** 2)\n",
    "        \n",
    "        # Agregar calores a listas x_list y y_list\n",
    "        x_list.append(x_next)\n",
    "        y_list.append(y_next)\n",
    "        \n",
    "        # Aceleraciones para 'x' y 'y' del siguiente paso\n",
    "        a_x_next = -(d/m) * v * v_x_next\n",
    "        a_y_next = -g -(d/m) * v * v_y_next\n",
    "\n",
    "        # Agregar valores a listas a_x_list y a_y_list\n",
    "        a_x_list.append(a_x_next)\n",
    "        a_y_list.append(a_y_next)\n",
    "        \n",
    "        vx = v_x_next\n",
    "        vy = v_y_next\n",
    "        v = v_next\n",
    "\n",
    "        x = x_next\n",
    "        y = y_next\n",
    "\n",
    "        ax = a_x_next\n",
    "        ay = a_y_next\n",
    "\n",
    "        # Calcular tiempo y guardarlo en una lista t_list\n",
    "        t += dt\n",
    "        t_list.append(t)\n",
    "        \n",
    "    return x_list, y_list, v_list, v_x_list, v_y_list, a_x_list, a_y_list, t_list"
   ]
  },
  {
   "cell_type": "markdown",
   "metadata": {},
   "source": [
    "La función calcula tanto la posición como la velocidad y la aceleración en cada cambio del tiempo. Se consideran valores iniciales para calcular la velocidad inicial y sus componentes (iniciales), el tiempo, la posición inicial, y la aceleración inicial obtenida mediante la relación con la segunda ley de newton y la resistencia al aire incluida. El algoritmo para obtener las distintas cantidades físicas con el paso del tiempo consta de un ciclo que se repite una determinada cantidad de veces. Dicho ciclo calcula la velocidad en el siguiente instante del tiempo, la posición a partir de la \"nueva\" velocidad, y la aceleración en el siguiente instante del tiempo."
   ]
  },
  {
   "cell_type": "markdown",
   "metadata": {},
   "source": [
    "# Conclusión\n",
    "\n",
    "Fue posible crear un programa que contribuya al análisis de balísticos y que sea flexible para cambiar diversas variables. Adicionalmente, fue posible modelar la trayectoria de un proyectil en dos situaciones, una sin incluir resistencia al aire, y la otra, incluyéndolo. \n",
    "\n",
    "Mediante la utilización de una aplicación que incluye tanto las consideraciones físicas del movimiento como los algoritmos mencionados en el presente escrito, es posible brindar una simulación útil para considerar variaciones en el comportamiento de las erupciones volcánicas. Esto, tiene una posible contribución al entrenamiento de rescatistas y a la evaluación de decisiones en una situación de actividad volcánica. \n",
    "\n",
    "En cuanto a las limitaciones del presente escrito, una de gran importancia es el tomar al proyectil como una esfera perfecta, que no es el caso del fenómeno."
   ]
  },
  {
   "cell_type": "markdown",
   "metadata": {},
   "source": [
    "# Referencias\n",
    "\n",
    "Alatorre, M. (2011). A model of volcanic explosions at Popocatépetl volcano (Mexico)... [Sitio Web]. Recuperado de: https://d-nb.info/1015203132/34\n",
    "\n",
    "Becerra, L., Guardado, M. (2001). Estimación de la incertidumbre en la determinación de la densidad del aire. CENAM. [Sitio Web]. Recuperado de: http://www.cenam.mx/myd/DENSIDAD%20DEL%20AIRE%20abril-20031.pdf\n",
    "\n",
    "Bucheli, E. Modelación Computacional del Movimiento. Tecnológico de Monterrey, Ciudad de México. 7 oct. 2020\n",
    "\n",
    "Katsuda, A. (2020). Entregable 2. Tecnológico de Monterrey, Ciudad de México. \n",
    "\n",
    "INEGI (2017). Anuario estadístico y geográfico de Puebla 2017. [Sitio Web]. Recuperado de: \n",
    "https://www.datatur.sectur.gob.mx/ITxEF_Docs/PUE_ANUARIO_PDF.pdf\n",
    "\n",
    "Pacheco, J. (2008) Análisis y Comparación de las emisiones… UNAM. [Sitio Web]. Recuperado de: http://www.ptolomeo.unam.mx:8080/xmlui/bitstream/handle/132.248.52.100/8070/Tesis_Completa.pdf?sequence=1\t\n",
    "\n",
    "Shiffman, D. (s.f.). Resistencia del aire y de fluidos. Khan Academy. [Sitio Web]. Recuperado de: https://es.khanacademy.org/computing/computer-programming/programming-natural-simulations/programming-forces/a/air-and-fluid-resistance\t\t\n",
    "\n",
    "Yunus, Ç., Cimbala, J. (2006). Mecánica de fluidos: Fundamentos y aplicaciones. [Sitio Web]. Recuperado de: http://tesis.pucp.edu.pe/repositorio/bitstream/handle/20.500.12404/5421/SOTOMAYOR_DENIS_SIMULACION_NUMERICA_INTERCAMBIADOR_CALOR_FLUJO_TRANSVERSAL_ALETEADO_ANEXOS.pdf?sequence=2&isAllowed=y"
   ]
  }
 ],
 "metadata": {
  "kernelspec": {
   "display_name": "Python 3",
   "language": "python",
   "name": "python3"
  },
  "language_info": {
   "codemirror_mode": {
    "name": "ipython",
    "version": 3
   },
   "file_extension": ".py",
   "mimetype": "text/x-python",
   "name": "python",
   "nbconvert_exporter": "python",
   "pygments_lexer": "ipython3",
   "version": "3.8.3"
  }
 },
 "nbformat": 4,
 "nbformat_minor": 4
}

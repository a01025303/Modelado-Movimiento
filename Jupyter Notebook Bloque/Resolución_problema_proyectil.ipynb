{
 "cells": [
  {
   "cell_type": "code",
   "execution_count": 1,
   "metadata": {},
   "outputs": [],
   "source": [
    "import numpy as np\n",
    "import matplotlib.pyplot as plt"
   ]
  },
  {
   "cell_type": "markdown",
   "metadata": {},
   "source": [
    "$\\vec{r} = (v_(ox)t)\\vec{i} + (-4.9t^2+v_{oy}t+x_{oy})\\vec{j}$"
   ]
  },
  {
   "cell_type": "markdown",
   "metadata": {},
   "source": [
    "$v_o = v_{ox} \\vec{i} + v_{oy}\\vec{j}$"
   ]
  },
  {
   "cell_type": "markdown",
   "metadata": {},
   "source": [
    "$v_{ox} = v_o\\cos(\\theta)$"
   ]
  },
  {
   "cell_type": "markdown",
   "metadata": {},
   "source": [
    "$v_{oy} = v_o\\sin(\\theta)$"
   ]
  },
  {
   "cell_type": "code",
   "execution_count": 21,
   "metadata": {},
   "outputs": [],
   "source": [
    "v_0 = 10\n",
    "theta_deg = 25\n",
    "y_0 = 10"
   ]
  },
  {
   "cell_type": "code",
   "execution_count": 22,
   "metadata": {},
   "outputs": [],
   "source": [
    "theta_rads = np.radians(theta_deg)\n",
    "v_0x = v_0*np.cos(theta_rads)\n",
    "v_0y = v_0*np.sin(theta_rads)"
   ]
  },
  {
   "cell_type": "code",
   "execution_count": 23,
   "metadata": {},
   "outputs": [
    {
     "name": "stdout",
     "output_type": "stream",
     "text": [
      "0.4363323129985824 9.063077870366499 4.2261826174069945\n"
     ]
    }
   ],
   "source": [
    "print(theta_rads, v_0x, v_0y)"
   ]
  },
  {
   "cell_type": "code",
   "execution_count": 39,
   "metadata": {},
   "outputs": [],
   "source": [
    "t = np.linspace(0,2, num=20)"
   ]
  },
  {
   "cell_type": "code",
   "execution_count": 40,
   "metadata": {},
   "outputs": [],
   "source": [
    "r_x = v_0x*t\n",
    "r_y = -4.9*t**2 + v_0y*t + y_0"
   ]
  },
  {
   "cell_type": "code",
   "execution_count": 41,
   "metadata": {},
   "outputs": [
    {
     "data": {
      "text/plain": [
       "[<matplotlib.lines.Line2D at 0x7fbc61dd77f0>]"
      ]
     },
     "execution_count": 41,
     "metadata": {},
     "output_type": "execute_result"
    },
    {
     "data": {
      "image/png": "[encoded data removed]",
      "text/plain": [
       "<Figure size 432x288 with 1 Axes>"
      ]
     },
     "metadata": {
      "needs_background": "light"
     },
     "output_type": "display_data"
    }
   ],
   "source": [
    "plt.plot(r_x,r_y)"
   ]
  },
  {
   "cell_type": "code",
   "execution_count": 42,
   "metadata": {},
   "outputs": [
    {
     "data": {
      "image/png": "[encoded data removed]",
      "text/plain": [
       "<Figure size 432x288 with 1 Axes>"
      ]
     },
     "metadata": {
      "needs_background": "light"
     },
     "output_type": "display_data"
    }
   ],
   "source": [
    "plt.scatter(r_x,r_y)\n",
    "#configuraciones extras\n",
    "#insertar título\n",
    "plt.title(\"Trayectoria del proyectil\")\n",
    "#valores en los ejes\n",
    "plt.grid()\n",
    "#editar \"tics\"\n",
    "x_ticks = plt.xticks(np.arange(0,20,2))\n",
    "y_ticks = plt.yticks(np.arange(0,12,1))\n",
    "_ = plt.xlim([0,18])\n",
    "_ = plt.ylim([0,12])\n",
    "\n",
    "#guardar foto\n",
    "plt.savefig('./Trayectoria.png')"
   ]
  },
  {
   "cell_type": "code",
   "execution_count": 43,
   "metadata": {},
   "outputs": [],
   "source": [
    "#Sacar el máximo en y\n",
    "max_height = np.max(r_y)\n",
    "#encontrar el tiempo en el punto más alto\n",
    "max_height_indx = np.argmax(r_y)\n",
    "max_time = t[max_height_indx]\n",
    "max_height_x = r_x[max_height_indx]\n",
    "max_height_y = r_y[max_height_indx]"
   ]
  },
  {
   "cell_type": "code",
   "execution_count": 44,
   "metadata": {},
   "outputs": [
    {
     "name": "stdout",
     "output_type": "stream",
     "text": [
      "Tiempo al punto más alto: 0.4211 [s]\n",
      "Altura máxima: 10.9107[m]\n",
      "Distancia horizontal en el punto máms alto:  3.8160[m]\n"
     ]
    }
   ],
   "source": [
    "print(f\"Tiempo al punto más alto: {max_time:.4f} [s]\")\n",
    "print(f\"Altura máxima: {max_height_y:.4f}[m]\")\n",
    "print(f\"Distancia horizontal en el punto máms alto: {max_height_x: .4f}[m]\")"
   ]
  },
  {
   "cell_type": "code",
   "execution_count": 46,
   "metadata": {},
   "outputs": [
    {
     "data": {
      "text/plain": [
       "18"
      ]
     },
     "execution_count": 46,
     "metadata": {},
     "output_type": "execute_result"
    }
   ],
   "source": [
    "#Encontrar número en y más cercano a 0\n",
    "np.argmin(np.abs(r_y))"
   ]
  },
  {
   "cell_type": "code",
   "execution_count": null,
   "metadata": {},
   "outputs": [],
   "source": []
  }
 ],
 "metadata": {
  "kernelspec": {
   "display_name": "Python 3",
   "language": "python",
   "name": "python3"
  },
  "language_info": {
   "codemirror_mode": {
    "name": "ipython",
    "version": 3
   },
   "file_extension": ".py",
   "mimetype": "text/x-python",
   "name": "python",
   "nbconvert_exporter": "python",
   "pygments_lexer": "ipython3",
   "version": "3.8.3"
  }
 },
 "nbformat": 4,
 "nbformat_minor": 4
}
